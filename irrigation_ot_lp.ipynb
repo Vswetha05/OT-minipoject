{
  "nbformat": 4,
  "nbformat_minor": 0,
  "metadata": {
    "colab": {
      "provenance": []
    },
    "kernelspec": {
      "name": "python3",
      "display_name": "Python 3"
    },
    "language_info": {
      "name": "python"
    }
  },
  "cells": [
    {
      "cell_type": "code",
      "execution_count": null,
      "metadata": {
        "colab": {
          "base_uri": "https://localhost:8080/"
        },
        "id": "GXhw65xUCs15",
        "outputId": "900db4e1-bc44-4b9a-adc8-d3e2ed1e2f4d"
      },
      "outputs": [
        {
          "output_type": "stream",
          "name": "stdout",
          "text": [
            "Status: Optimal\n",
            "Area to plant maize: 500.00 m²\n",
            "Area to plant paddy: 0.00 m²\n",
            "Maximum yield: 2000.00 kg\n"
          ]
        }
      ],
      "source": [
        "import pulp\n",
        "\n",
        "# Create the LP problem\n",
        "model = pulp.LpProblem(\"Maximize_Crop_Yield\", pulp.LpMaximize)\n",
        "\n",
        "# Define decision variables\n",
        "x1 = pulp.LpVariable('Maize_area_m2', lowBound=0, cat='Continuous')\n",
        "x2 = pulp.LpVariable('Paddy_area_m2', lowBound=0, cat='Continuous')\n",
        "\n",
        "# Objective function\n",
        "model += 4 * x1 + 6 * x2, \"Total_Yield\"\n",
        "\n",
        "# Water constraint\n",
        "model += 6 * x1 + 15 * x2 <= 3000, \"Water_Constraint\"\n",
        "\n",
        "# Solve the problem\n",
        "model.solve()\n",
        "\n",
        "# Print the results\n",
        "print(f\"Status: {pulp.LpStatus[model.status]}\")\n",
        "print(f\"Area to plant maize: {x1.varValue:.2f} m²\")\n",
        "print(f\"Area to plant paddy: {x2.varValue:.2f} m²\")\n",
        "print(f\"Maximum yield: {pulp.value(model.objective):.2f} kg\")\n"
      ]
    },
    {
      "cell_type": "code",
      "source": [
        "pip install pulp"
      ],
      "metadata": {
        "colab": {
          "base_uri": "https://localhost:8080/"
        },
        "id": "Ynfw0_Y7Cti4",
        "outputId": "16147351-ba37-41a6-e7a3-1b3477e28684"
      },
      "execution_count": null,
      "outputs": [
        {
          "output_type": "stream",
          "name": "stdout",
          "text": [
            "Collecting pulp\n",
            "  Downloading pulp-3.1.1-py3-none-any.whl.metadata (1.3 kB)\n",
            "Downloading pulp-3.1.1-py3-none-any.whl (16.4 MB)\n",
            "\u001b[2K   \u001b[90m━━━━━━━━━━━━━━━━━━━━━━━━━━━━━━━━━━━━━━━━\u001b[0m \u001b[32m16.4/16.4 MB\u001b[0m \u001b[31m34.2 MB/s\u001b[0m eta \u001b[36m0:00:00\u001b[0m\n",
            "\u001b[?25hInstalling collected packages: pulp\n",
            "Successfully installed pulp-3.1.1\n"
          ]
        }
      ]
    },
    {
      "cell_type": "code",
      "source": [],
      "metadata": {
        "id": "khHT1RP8Cxt_"
      },
      "execution_count": null,
      "outputs": []
    }
  ]
}